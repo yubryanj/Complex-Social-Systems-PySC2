{
 "cells": [
  {
   "cell_type": "code",
   "execution_count": 1,
   "metadata": {},
   "outputs": [],
   "source": [
    "import seaborn as sns\n",
    "import matplotlib.pyplot as plt\n",
    "import os\n",
    "import pandas as pd\n",
    "plt.rcParams.update({'font.size': 12})"
   ]
  },
  {
   "cell_type": "markdown",
   "metadata": {},
   "source": [
    "## Training period"
   ]
  },
  {
   "cell_type": "code",
   "execution_count": 2,
   "metadata": {},
   "outputs": [],
   "source": [
    "results_dir = os.getcwd()"
   ]
  },
  {
   "cell_type": "code",
   "execution_count": 3,
   "metadata": {},
   "outputs": [],
   "source": [
    "def find_csv_filenames( path_to_dir, suffix=\".csv\" ):\n",
    "    filenames = os.listdir(path_to_dir)\n",
    "    return [ filename for filename in filenames if filename.endswith( suffix ) ]"
   ]
  },
  {
   "cell_type": "code",
   "execution_count": 5,
   "metadata": {},
   "outputs": [
    {
     "data": {
      "text/plain": [
       "['experiment_000_RANDOM_step_results.csv',\n",
       " 'experiment_10_PPO_step_results.csv',\n",
       " 'experiment_11_A2C_step_results.csv',\n",
       " 'experiment_12_DQN_step_results.csv',\n",
       " 'experiment_13_PPO_step_results.csv',\n",
       " 'experiment_14_A2C_step_results.csv',\n",
       " 'experiment_15_DQN_step_results.csv',\n",
       " 'experiment_16_PPO_step_results.csv',\n",
       " 'experiment_17_A2C_step_results.csv',\n",
       " 'experiment_18_DQN_step_results.csv',\n",
       " 'experiment_19_PPO_step_results.csv',\n",
       " 'experiment_1_PPO_step_results.csv',\n",
       " 'experiment_20_A2C_step_results.csv',\n",
       " 'experiment_21_DQN_step_results.csv',\n",
       " 'experiment_22_PPO_step_results.csv',\n",
       " 'experiment_23_A2C_step_results.csv',\n",
       " 'experiment_24_DQN_step_results.csv',\n",
       " 'experiment_2_A2C_step_results.csv',\n",
       " 'experiment_3_DQN_step_results.csv',\n",
       " 'experiment_4_PPO_step_results.csv',\n",
       " 'experiment_5_A2C_step_results.csv',\n",
       " 'experiment_6_DQN_step_results.csv',\n",
       " 'experiment_7_PPO_step_results.csv',\n",
       " 'experiment_8_A2C_step_results.csv',\n",
       " 'experiment_9_DQN_step_results.csv']"
      ]
     },
     "execution_count": 5,
     "metadata": {},
     "output_type": "execute_result"
    }
   ],
   "source": [
    "result_files = find_csv_filenames(results_dir)\n",
    "result_files"
   ]
  },
  {
   "cell_type": "code",
   "execution_count": 7,
   "metadata": {},
   "outputs": [],
   "source": [
    "results = {}\n",
    "index = 0\n",
    "for result_file in result_files:\n",
    "    results[index] = pd.read_csv(os.path.join(results_dir, result_file))\n",
    "    index += 1"
   ]
  },
  {
   "cell_type": "code",
   "execution_count": 5,
   "metadata": {},
   "outputs": [],
   "source": [
    "experiment_configuration = {}\n",
    "experiment_configuration[1] = {'algo': 'PPO', 'incentive': 'no'}\n",
    "experiment_configuration[2] = {'algo': 'A2C', 'incentive': 'no'}\n",
    "experiment_configuration[3] = {'algo': 'DQN', 'incentive': 'no'}\n",
    "experiment_configuration[4] = {'algo': 'PPO', 'incentive': 'time'}\n",
    "experiment_configuration[5] = {'algo': 'A2C', 'incentive': 'time'}\n",
    "experiment_configuration[6] = {'algo': 'DQN', 'incentive': 'time'} corrupted\n",
    "experiment_configuration[7] = {'algo': 'PPO', 'incentive': 'episodic'}\n",
    "experiment_configuration[8] = {'algo': 'A2C', 'incentive': 'episodic'}\n",
    "experiment_configuration[9] = {'algo': 'DQN', 'incentive': 'episodic'}\n",
    "experiment_configuration[10] = {'algo': 'PPO', 'incentive': 'time, episodic'}\n",
    "experiment_configuration[11] = {'algo': 'A2C', 'incentive': 'time, episodic'}\n",
    "experiment_configuration[12] = {'algo': 'DQN', 'incentive': 'time, episodic'}\n",
    "experiment_configuration[13] = {'algo': 'PPO', 'incentive': 'thresholding'}\n",
    "experiment_configuration[14] = {'algo': 'A2C', 'incentive': 'thresholding'}\n",
    "experiment_configuration[15] = {'algo': 'DQN', 'incentive': 'thresholding'}\n",
    "experiment_configuration[16] = {'algo': 'PPO', 'incentive': 'time, thresholding'}\n",
    "experiment_configuration[17] = {'algo': 'A2C', 'incentive': 'time, thresholding'}\n",
    "experiment_configuration[18] = {'algo': 'DQN', 'incentive': 'time, thresholding'}\n",
    "experiment_configuration[19] = {'algo': 'PPO', 'incentive': 'episodic, thresholding'}\n",
    "experiment_configuration[20] = {'algo': 'A2C', 'incentive': 'episodic, thresholding'}\n",
    "experiment_configuration[21] = {'algo': 'DQN', 'incentive': 'episodic, thresholding'}\n",
    "experiment_configuration[22] = {'algo': 'PPO', 'incentive': 'time, episodic, thresholding'}\n",
    "experiment_configuration[23] = {'algo': 'A2C', 'incentive': 'time, episodic, thresholding'}\n",
    "experiment_configuration[24] = {'algo': 'DQN', 'incentive': 'time, episodic, thresholding'}"
   ]
  },
  {
   "cell_type": "code",
   "execution_count": 48,
   "metadata": {},
   "outputs": [],
   "source": [
    "exp_nrs = {}\n",
    "exp_nrs['PPO'] = [1, 4, 7, 10, 13, 16, 19, 22]\n",
    "exp_nrs['A2C'] = [2, 5, 8, 11, 14, 17, 20, 23]\n",
    "exp_nrs['DQN'] = [3, 6, 9, 12, 15, 18, 21, 24]"
   ]
  },
  {
   "cell_type": "code",
   "execution_count": 38,
   "metadata": {},
   "outputs": [],
   "source": [
    "def plot_episode_boxplots(experiment_number, config):\n",
    "    result = results[experiment_number][['Step', 'Value']].rename(columns={'Value':'Reward'})\n",
    "    result['Episode'] = result['Step']/10000\n",
    "    result['Episode'] = result['Episode'].apply(int)\n",
    "    fig = plt.figure()\n",
    "    ax = sns.boxplot(data=result, x='Episode', y='Reward', \n",
    "            showmeans=True, palette=\"Blues\",\n",
    "            meanprops={\"marker\":\"o\",\n",
    "                       \"markerfacecolor\":\"white\", \n",
    "                       \"markeredgecolor\":\"black\",\n",
    "                      \"markersize\":\"10\"})\n",
    "    ax.set_title('Development of reward for {},\\n {} incentive'.format(config['algo'], config['incentive']))"
   ]
  },
  {
   "cell_type": "code",
   "execution_count": 11,
   "metadata": {},
   "outputs": [],
   "source": [
    "def plot_episode_lineplot(experiment_number, config, ci=None):\n",
    "    result = results[experiment_number][['Step', 'Value']].rename(columns={'Value':'Reward'})\n",
    "    result['Episode'] = result['Step']/10000\n",
    "    result['Episode'] = result['Episode'].apply(int)\n",
    "    fig = plt.figure()\n",
    "    ax = sns.lineplot(data=result, x='Episode', y='Reward', ci=ci)\n",
    "    ax.set_title('Development of reward for {}, {} incentive'.format(config['algo'], config['incentive']))"
   ]
  },
  {
   "cell_type": "code",
   "execution_count": 20,
   "metadata": {},
   "outputs": [],
   "source": [
    "def plot_episode_lineplot_multi(experiment_numbers):\n",
    "    results_to_plot = pd.DataFrame()\n",
    "    for experiment_number in experiment_numbers:\n",
    "        config = experiment_configuration[experiment_number]\n",
    "        result = results[experiment_number][['Step', 'Value']].rename(columns={'Value':'Reward'})\n",
    "        result['Episode'] = result['Step']/10000\n",
    "        result['Episode'] = result['Episode'].apply(int)\n",
    "        result['Algorithm'] = config['algo']\n",
    "        results_to_plot = pd.concat([result, results_to_plot])\n",
    "    fig = plt.figure()\n",
    "    ax = sns.lineplot(data=results_to_plot, x='Episode', y='Reward', hue='Algorithm')\n",
    "    ax.set_title('Development of reward for {} incentive'.format(config['incentive']))"
   ]
  },
  {
   "cell_type": "markdown",
   "metadata": {},
   "source": [
    "## Model and Incentive Comparison"
   ]
  },
  {
   "cell_type": "code",
   "execution_count": 37,
   "metadata": {},
   "outputs": [],
   "source": [
    "def plot_experiments(results_dir, algo, y_lim=None):\n",
    "    reward_files = os.listdir(results_dir + '/' + algo)\n",
    "    results = pd.DataFrame()\n",
    "    # import results\n",
    "    for file in reward_files:\n",
    "        str_parts = file.split('_')\n",
    "        experiment_nr = str_parts[1]\n",
    "        result = pd.read_csv(os.path.join(results_dir, algo, file),header=None).rename(columns={0:'Reward'})\n",
    "        result['exp_nr'] = experiment_nr\n",
    "        results = pd.concat([results, result])\n",
    "    # get experiment nr\n",
    "    exp_nrs = [int(nr) for nr in list(results['exp_nr'].unique())]\n",
    "    list.sort(exp_nrs)\n",
    "    # create boxplots\n",
    "    ax = sns.boxplot(data=results, x='exp_nr', y='Reward', \n",
    "            showmeans=True, palette=\"Blues\",\n",
    "            meanprops={\"marker\":\"o\",\n",
    "                       \"markerfacecolor\":\"white\", \n",
    "                       \"markeredgecolor\":\"black\",\n",
    "                      \"markersize\":\"10\"},   order=[str(nr) for nr in exp_nrs])\n",
    "    ax.set_title('Reward for {}'.format(algo))\n",
    "    if y_lim is not None:\n",
    "        ax.set_ylim(y_lim)\n",
    "    return ax"
   ]
  },
  {
   "cell_type": "code",
   "execution_count": 29,
   "metadata": {},
   "outputs": [
    {
     "data": {
      "text/html": [
       "<div>\n",
       "<style scoped>\n",
       "    .dataframe tbody tr th:only-of-type {\n",
       "        vertical-align: middle;\n",
       "    }\n",
       "\n",
       "    .dataframe tbody tr th {\n",
       "        vertical-align: top;\n",
       "    }\n",
       "\n",
       "    .dataframe thead th {\n",
       "        text-align: right;\n",
       "    }\n",
       "</style>\n",
       "<table border=\"1\" class=\"dataframe\">\n",
       "  <thead>\n",
       "    <tr style=\"text-align: right;\">\n",
       "      <th></th>\n",
       "      <th>Reward</th>\n",
       "      <th>exp_nr</th>\n",
       "    </tr>\n",
       "  </thead>\n",
       "  <tbody>\n",
       "    <tr>\n",
       "      <th>0</th>\n",
       "      <td>500.0</td>\n",
       "      <td>0</td>\n",
       "    </tr>\n",
       "    <tr>\n",
       "      <th>1</th>\n",
       "      <td>200.0</td>\n",
       "      <td>0</td>\n",
       "    </tr>\n",
       "    <tr>\n",
       "      <th>2</th>\n",
       "      <td>100.0</td>\n",
       "      <td>0</td>\n",
       "    </tr>\n",
       "    <tr>\n",
       "      <th>3</th>\n",
       "      <td>1200.0</td>\n",
       "      <td>0</td>\n",
       "    </tr>\n",
       "    <tr>\n",
       "      <th>4</th>\n",
       "      <td>0.0</td>\n",
       "      <td>0</td>\n",
       "    </tr>\n",
       "  </tbody>\n",
       "</table>\n",
       "</div>"
      ],
      "text/plain": [
       "   Reward  exp_nr\n",
       "0   500.0       0\n",
       "1   200.0       0\n",
       "2   100.0       0\n",
       "3  1200.0       0\n",
       "4     0.0       0"
      ]
     },
     "execution_count": 29,
     "metadata": {},
     "output_type": "execute_result"
    }
   ],
   "source": [
    "end_results = pd.DataFrame()\n",
    "for exp_nr, step_result in results.items():\n",
    "    res = step_result.iloc[:,-1]\n",
    "    res.name = 'Reward'\n",
    "    res_df = pd.DataFrame()\n",
    "    res_df['Reward'] = res\n",
    "    res_df['exp_nr'] = exp_nr\n",
    "    end_results = pd.concat([end_results, res_df])\n",
    "end_results.head()"
   ]
  },
  {
   "cell_type": "code",
   "execution_count": 30,
   "metadata": {},
   "outputs": [],
   "source": [
    "general_res = end_results.groupby(['exp_nr']).min().rename(columns={'Reward':'min'})\n",
    "general_res['max'] = end_results.groupby(['exp_nr']).max()\n",
    "general_res['mean'] = end_results.groupby(['exp_nr']).mean()\n",
    "general_res['median'] = end_results.groupby(['exp_nr']).median()"
   ]
  },
  {
   "cell_type": "code",
   "execution_count": 31,
   "metadata": {},
   "outputs": [
    {
     "data": {
      "text/html": [
       "<div>\n",
       "<style scoped>\n",
       "    .dataframe tbody tr th:only-of-type {\n",
       "        vertical-align: middle;\n",
       "    }\n",
       "\n",
       "    .dataframe tbody tr th {\n",
       "        vertical-align: top;\n",
       "    }\n",
       "\n",
       "    .dataframe thead th {\n",
       "        text-align: right;\n",
       "    }\n",
       "</style>\n",
       "<table border=\"1\" class=\"dataframe\">\n",
       "  <thead>\n",
       "    <tr style=\"text-align: right;\">\n",
       "      <th></th>\n",
       "      <th>min</th>\n",
       "      <th>max</th>\n",
       "      <th>mean</th>\n",
       "      <th>median</th>\n",
       "    </tr>\n",
       "    <tr>\n",
       "      <th>exp_nr</th>\n",
       "      <th></th>\n",
       "      <th></th>\n",
       "      <th></th>\n",
       "      <th></th>\n",
       "    </tr>\n",
       "  </thead>\n",
       "  <tbody>\n",
       "    <tr>\n",
       "      <th>0</th>\n",
       "      <td>0.0</td>\n",
       "      <td>1200.0</td>\n",
       "      <td>522.222222</td>\n",
       "      <td>500.0</td>\n",
       "    </tr>\n",
       "    <tr>\n",
       "      <th>1</th>\n",
       "      <td>200.0</td>\n",
       "      <td>1000.0</td>\n",
       "      <td>688.888889</td>\n",
       "      <td>900.0</td>\n",
       "    </tr>\n",
       "    <tr>\n",
       "      <th>2</th>\n",
       "      <td>200.0</td>\n",
       "      <td>1100.0</td>\n",
       "      <td>633.333333</td>\n",
       "      <td>700.0</td>\n",
       "    </tr>\n",
       "    <tr>\n",
       "      <th>3</th>\n",
       "      <td>100.0</td>\n",
       "      <td>1100.0</td>\n",
       "      <td>522.222222</td>\n",
       "      <td>400.0</td>\n",
       "    </tr>\n",
       "    <tr>\n",
       "      <th>4</th>\n",
       "      <td>0.0</td>\n",
       "      <td>800.0</td>\n",
       "      <td>400.000000</td>\n",
       "      <td>200.0</td>\n",
       "    </tr>\n",
       "    <tr>\n",
       "      <th>5</th>\n",
       "      <td>0.0</td>\n",
       "      <td>1100.0</td>\n",
       "      <td>633.333333</td>\n",
       "      <td>700.0</td>\n",
       "    </tr>\n",
       "    <tr>\n",
       "      <th>6</th>\n",
       "      <td>0.0</td>\n",
       "      <td>500.0</td>\n",
       "      <td>266.666667</td>\n",
       "      <td>300.0</td>\n",
       "    </tr>\n",
       "    <tr>\n",
       "      <th>7</th>\n",
       "      <td>100.0</td>\n",
       "      <td>1000.0</td>\n",
       "      <td>411.111111</td>\n",
       "      <td>300.0</td>\n",
       "    </tr>\n",
       "    <tr>\n",
       "      <th>8</th>\n",
       "      <td>400.0</td>\n",
       "      <td>1300.0</td>\n",
       "      <td>788.888889</td>\n",
       "      <td>700.0</td>\n",
       "    </tr>\n",
       "    <tr>\n",
       "      <th>9</th>\n",
       "      <td>100.0</td>\n",
       "      <td>700.0</td>\n",
       "      <td>255.555556</td>\n",
       "      <td>100.0</td>\n",
       "    </tr>\n",
       "    <tr>\n",
       "      <th>10</th>\n",
       "      <td>100.0</td>\n",
       "      <td>1000.0</td>\n",
       "      <td>588.888889</td>\n",
       "      <td>800.0</td>\n",
       "    </tr>\n",
       "    <tr>\n",
       "      <th>11</th>\n",
       "      <td>0.0</td>\n",
       "      <td>1400.0</td>\n",
       "      <td>688.888889</td>\n",
       "      <td>700.0</td>\n",
       "    </tr>\n",
       "    <tr>\n",
       "      <th>12</th>\n",
       "      <td>100.0</td>\n",
       "      <td>1400.0</td>\n",
       "      <td>566.666667</td>\n",
       "      <td>600.0</td>\n",
       "    </tr>\n",
       "    <tr>\n",
       "      <th>13</th>\n",
       "      <td>100.0</td>\n",
       "      <td>900.0</td>\n",
       "      <td>355.555556</td>\n",
       "      <td>300.0</td>\n",
       "    </tr>\n",
       "    <tr>\n",
       "      <th>14</th>\n",
       "      <td>200.0</td>\n",
       "      <td>900.0</td>\n",
       "      <td>577.777778</td>\n",
       "      <td>700.0</td>\n",
       "    </tr>\n",
       "    <tr>\n",
       "      <th>15</th>\n",
       "      <td>0.0</td>\n",
       "      <td>1400.0</td>\n",
       "      <td>600.000000</td>\n",
       "      <td>400.0</td>\n",
       "    </tr>\n",
       "    <tr>\n",
       "      <th>16</th>\n",
       "      <td>0.0</td>\n",
       "      <td>600.0</td>\n",
       "      <td>266.666667</td>\n",
       "      <td>200.0</td>\n",
       "    </tr>\n",
       "    <tr>\n",
       "      <th>17</th>\n",
       "      <td>100.0</td>\n",
       "      <td>600.0</td>\n",
       "      <td>355.555556</td>\n",
       "      <td>400.0</td>\n",
       "    </tr>\n",
       "    <tr>\n",
       "      <th>18</th>\n",
       "      <td>0.0</td>\n",
       "      <td>900.0</td>\n",
       "      <td>311.111111</td>\n",
       "      <td>200.0</td>\n",
       "    </tr>\n",
       "    <tr>\n",
       "      <th>19</th>\n",
       "      <td>0.0</td>\n",
       "      <td>1100.0</td>\n",
       "      <td>633.333333</td>\n",
       "      <td>700.0</td>\n",
       "    </tr>\n",
       "    <tr>\n",
       "      <th>20</th>\n",
       "      <td>300.0</td>\n",
       "      <td>1300.0</td>\n",
       "      <td>733.333333</td>\n",
       "      <td>700.0</td>\n",
       "    </tr>\n",
       "    <tr>\n",
       "      <th>21</th>\n",
       "      <td>0.0</td>\n",
       "      <td>1000.0</td>\n",
       "      <td>388.888889</td>\n",
       "      <td>300.0</td>\n",
       "    </tr>\n",
       "    <tr>\n",
       "      <th>22</th>\n",
       "      <td>300.0</td>\n",
       "      <td>1300.0</td>\n",
       "      <td>700.000000</td>\n",
       "      <td>700.0</td>\n",
       "    </tr>\n",
       "    <tr>\n",
       "      <th>23</th>\n",
       "      <td>100.0</td>\n",
       "      <td>1700.0</td>\n",
       "      <td>633.333333</td>\n",
       "      <td>600.0</td>\n",
       "    </tr>\n",
       "    <tr>\n",
       "      <th>24</th>\n",
       "      <td>0.0</td>\n",
       "      <td>900.0</td>\n",
       "      <td>400.000000</td>\n",
       "      <td>500.0</td>\n",
       "    </tr>\n",
       "  </tbody>\n",
       "</table>\n",
       "</div>"
      ],
      "text/plain": [
       "          min     max        mean  median\n",
       "exp_nr                                   \n",
       "0         0.0  1200.0  522.222222   500.0\n",
       "1       200.0  1000.0  688.888889   900.0\n",
       "2       200.0  1100.0  633.333333   700.0\n",
       "3       100.0  1100.0  522.222222   400.0\n",
       "4         0.0   800.0  400.000000   200.0\n",
       "5         0.0  1100.0  633.333333   700.0\n",
       "6         0.0   500.0  266.666667   300.0\n",
       "7       100.0  1000.0  411.111111   300.0\n",
       "8       400.0  1300.0  788.888889   700.0\n",
       "9       100.0   700.0  255.555556   100.0\n",
       "10      100.0  1000.0  588.888889   800.0\n",
       "11        0.0  1400.0  688.888889   700.0\n",
       "12      100.0  1400.0  566.666667   600.0\n",
       "13      100.0   900.0  355.555556   300.0\n",
       "14      200.0   900.0  577.777778   700.0\n",
       "15        0.0  1400.0  600.000000   400.0\n",
       "16        0.0   600.0  266.666667   200.0\n",
       "17      100.0   600.0  355.555556   400.0\n",
       "18        0.0   900.0  311.111111   200.0\n",
       "19        0.0  1100.0  633.333333   700.0\n",
       "20      300.0  1300.0  733.333333   700.0\n",
       "21        0.0  1000.0  388.888889   300.0\n",
       "22      300.0  1300.0  700.000000   700.0\n",
       "23      100.0  1700.0  633.333333   600.0\n",
       "24        0.0   900.0  400.000000   500.0"
      ]
     },
     "execution_count": 31,
     "metadata": {},
     "output_type": "execute_result"
    }
   ],
   "source": [
    "general_res"
   ]
  },
  {
   "cell_type": "markdown",
   "metadata": {},
   "source": [
    "### PPO"
   ]
  },
  {
   "cell_type": "code",
   "execution_count": 33,
   "metadata": {},
   "outputs": [],
   "source": [
    "exp_nrs_PPO = [1, 4, 7, 10, 13, 16, 19, 22]"
   ]
  },
  {
   "cell_type": "code",
   "execution_count": 45,
   "metadata": {},
   "outputs": [
    {
     "data": {
      "text/plain": [
       "Text(0.5, 1.0, 'Reward for PPO')"
      ]
     },
     "execution_count": 45,
     "metadata": {},
     "output_type": "execute_result"
    },
    {
     "data": {
      "image/png": "[encoded data removed]",
      "text/plain": [
       "<Figure size 432x288 with 1 Axes>"
      ]
     },
     "metadata": {
      "needs_background": "light"
     },
     "output_type": "display_data"
    }
   ],
   "source": [
    "exp_nrs_PPO\n",
    "results_PPO = end_results.loc[end_results.exp_nr.isin(exp_nrs_PPO)]\n",
    "\n",
    "ax_PPO = sns.boxplot(data=results_PPO, x='exp_nr', y='Reward', \n",
    "            showmeans=True, palette=\"Blues\",\n",
    "            meanprops={\"marker\":\"o\",\n",
    "                       \"markerfacecolor\":\"white\", \n",
    "                       \"markeredgecolor\":\"black\",\n",
    "                      \"markersize\":\"10\"})\n",
    "ax_PPO.set_ylim((-85.0, 1785.0))\n",
    "ax_PPO.set_title('Reward for PPO')"
   ]
  },
  {
   "cell_type": "markdown",
   "metadata": {},
   "source": [
    "### A2C"
   ]
  },
  {
   "cell_type": "code",
   "execution_count": 46,
   "metadata": {},
   "outputs": [
    {
     "data": {
      "text/plain": [
       "Text(0.5, 1.0, 'Reward for A2C')"
      ]
     },
     "execution_count": 46,
     "metadata": {},
     "output_type": "execute_result"
    },
    {
     "data": {
      "image/png": "[encoded data removed]",
      "text/plain": [
       "<Figure size 432x288 with 1 Axes>"
      ]
     },
     "metadata": {
      "needs_background": "light"
     },
     "output_type": "display_data"
    }
   ],
   "source": [
    "exp_nrs_A2C = [2, 5, 8, 11, 14, 17, 20, 23]\n",
    "results_A2C = end_results.loc[end_results.exp_nr.isin(exp_nrs_A2C)]\n",
    "\n",
    "ax_A2C = sns.boxplot(data=results_A2C, x='exp_nr', y='Reward', \n",
    "            showmeans=True, palette=\"Blues\",\n",
    "            meanprops={\"marker\":\"o\",\n",
    "                       \"markerfacecolor\":\"white\", \n",
    "                       \"markeredgecolor\":\"black\",\n",
    "                      \"markersize\":\"10\"})\n",
    "ax_A2C.set_title('Reward for A2C')"
   ]
  },
  {
   "cell_type": "markdown",
   "metadata": {},
   "source": [
    "### DQN"
   ]
  },
  {
   "cell_type": "code",
   "execution_count": 47,
   "metadata": {},
   "outputs": [
    {
     "data": {
      "text/plain": [
       "Text(0.5, 1.0, 'Reward for DQN')"
      ]
     },
     "execution_count": 47,
     "metadata": {},
     "output_type": "execute_result"
    },
    {
     "data": {
      "image/png": "[encoded data removed]",
      "text/plain": [
       "<Figure size 432x288 with 1 Axes>"
      ]
     },
     "metadata": {
      "needs_background": "light"
     },
     "output_type": "display_data"
    }
   ],
   "source": [
    "exp_nrs_DQN= [3, 6, 9, 12, 15, 18, 21, 24]\n",
    "results_DQN = end_results.loc[end_results.exp_nr.isin(exp_nrs_DQN)]\n",
    "\n",
    "ax_DQN = sns.boxplot(data=results_DQN, x='exp_nr', y='Reward', \n",
    "            showmeans=True, palette=\"Blues\",\n",
    "            meanprops={\"marker\":\"o\",\n",
    "                       \"markerfacecolor\":\"white\", \n",
    "                       \"markeredgecolor\":\"black\",\n",
    "                      \"markersize\":\"10\"})\n",
    "ax_DQN.set_ylim((-85.0, 1785.0))\n",
    "ax_DQN.set_title('Reward for DQN')"
   ]
  },
  {
   "cell_type": "markdown",
   "metadata": {},
   "source": [
    "# Overall results"
   ]
  },
  {
   "cell_type": "code",
   "execution_count": 57,
   "metadata": {},
   "outputs": [],
   "source": [
    "def plot_minerals_v2(results, algo, exp_nrs, y_lim=(-90.0, 1890.0), hide_axis=False):\n",
    "    # get experiment nr\n",
    "    exp_nrs_algo = exp_nrs[algo]\n",
    "    results_algo = end_results.loc[end_results.exp_nr.isin(exp_nrs_algo)]\n",
    "    # create boxplots\n",
    "    ax = sns.boxplot(data=results_algo, x='exp_nr', y='Reward', \n",
    "            showmeans=True, palette=\"Blues\",\n",
    "            meanprops={\"marker\":\"o\",\n",
    "                       \"markerfacecolor\":\"white\", \n",
    "                       \"markeredgecolor\":\"black\",\n",
    "                      \"markersize\":\"10\"})\n",
    "    ax.set_title('{}'.format(algo))\n",
    "    \n",
    "    if y_lim is not None:\n",
    "        ax.set_ylim(y_lim)\n",
    "    if hide_axis:\n",
    "        ax.axes.yaxis.set_visible(False)\n",
    "    return ax"
   ]
  },
  {
   "cell_type": "code",
   "execution_count": 58,
   "metadata": {},
   "outputs": [
    {
     "data": {
      "image/png": "[encoded data removed]",
      "text/plain": [
       "<Figure size 864x288 with 3 Axes>"
      ]
     },
     "metadata": {
      "needs_background": "light"
     },
     "output_type": "display_data"
    }
   ],
   "source": [
    "from matplotlib import rc\n",
    "plt.rcParams.update({'font.size': 16})\n",
    "rc('font',**{'family':'sans-serif','sans-serif':['Helvetica']})\n",
    "fig, (ax1, ax2, ax3) = plt.subplots(nrows=1, ncols=3, figsize=(12, 4), sharey=True)\n",
    "plt.axes(ax1)\n",
    "ax_PPO = plot_minerals_v2(results_dir, 'PPO', exp_nrs)\n",
    "plt.axes(ax2)\n",
    "ax_A2C = plot_minerals_v2(results_dir, 'A2C', exp_nrs, hide_axis=True)\n",
    "plt.axes(ax3)\n",
    "ax_DQN=plot_minerals_v2(results_dir, 'DQN', exp_nrs, hide_axis=True)\n",
    "plt.tight_layout()\n",
    "plt.savefig('mineral_comparison_v2.pdf')"
   ]
  }
 ],
 "metadata": {
  "kernelspec": {
   "display_name": "env_Elia",
   "language": "python",
   "name": "env_elia"
  },
  "language_info": {
   "codemirror_mode": {
    "name": "ipython",
    "version": 3
   },
   "file_extension": ".py",
   "mimetype": "text/x-python",
   "name": "python",
   "nbconvert_exporter": "python",
   "pygments_lexer": "ipython3",
   "version": "3.6.11"
  }
 },
 "nbformat": 4,
 "nbformat_minor": 4
}
